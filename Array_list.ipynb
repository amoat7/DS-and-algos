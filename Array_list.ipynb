{
 "cells": [
  {
   "cell_type": "markdown",
   "metadata": {},
   "source": [
    "# Average Temperature"
   ]
  },
  {
   "cell_type": "code",
   "execution_count": 2,
   "metadata": {},
   "outputs": [
    {
     "name": "stdout",
     "output_type": "stream",
     "text": [
      "\n",
      "Average = 6.8\n",
      "\n",
      " 3 Days have above temperature.\n"
     ]
    }
   ],
   "source": [
    "numDays = int(input(\"How many day's temperature\"))\n",
    "total = 0\n",
    "temp =[]\n",
    "for i in range(0, numDays):\n",
    "    nextDay = int(input(\"Day\" + str(i+1) + \"'s high temp:\"))\n",
    "    temp.append(nextDay)\n",
    "    total += nextDay\n",
    "\n",
    "avg = round(total/numDays, 2)\n",
    "print(\"\\nAverage = \" + str(avg))\n",
    "\n",
    "above = 0\n",
    "for i in temp:\n",
    "    if i>avg:\n",
    "        above+=1\n",
    "print(f\"\\n {above} Days have above temperature.\")"
   ]
  },
  {
   "cell_type": "markdown",
   "metadata": {},
   "source": [
    "# Missing Number"
   ]
  },
  {
   "cell_type": "code",
   "execution_count": 4,
   "metadata": {},
   "outputs": [
    {
     "name": "stdout",
     "output_type": "stream",
     "text": [
      "Missing number is 8\n"
     ]
    }
   ],
   "source": [
    "my_list = [1,2,3,4,5,6,7,9,10]\n",
    "\n",
    "sum = 0\n",
    "for i in my_list:\n",
    "    sum+=i\n",
    "\n",
    "missing = int(10*(10+1)/2 - sum)\n",
    "print(f\"Missing number is {missing}\")"
   ]
  },
  {
   "cell_type": "markdown",
   "metadata": {},
   "source": [
    "# Finding pairs of integers whose sum is equal to a given number"
   ]
  },
  {
   "cell_type": "code",
   "execution_count": 28,
   "metadata": {},
   "outputs": [
    {
     "name": "stdout",
     "output_type": "stream",
     "text": [
      "The pairs of integers are [1, 2]\n"
     ]
    }
   ],
   "source": [
    "def findPairs(nums, target):\n",
    "    pair = []\n",
    "    for idx, val in enumerate(nums):\n",
    "        for idxi, vali in enumerate(nums):\n",
    "            if target-val ==vali and len(pair)!=2:\n",
    "                pair.append(idx)\n",
    "                pair.append(idxi)\n",
    "                \n",
    "    return pair\n",
    "\n",
    "pair = findPairs([70,2, 7, 8, 9], 9)\n",
    "\n",
    "print(f\"The pairs of integers are {pair}\")"
   ]
  },
  {
   "cell_type": "markdown",
   "metadata": {},
   "source": [
    "# Max Product of two int"
   ]
  }
 ],
 "metadata": {
  "interpreter": {
   "hash": "03b071932e2ff43920a70a906a312164fca232c09f90383ed69a0680014bf05a"
  },
  "kernelspec": {
   "display_name": "Python 3.8.5 64-bit ('base': conda)",
   "language": "python",
   "name": "python3"
  },
  "language_info": {
   "codemirror_mode": {
    "name": "ipython",
    "version": 3
   },
   "file_extension": ".py",
   "mimetype": "text/x-python",
   "name": "python",
   "nbconvert_exporter": "python",
   "pygments_lexer": "ipython3",
   "version": "3.8.5"
  },
  "orig_nbformat": 4
 },
 "nbformat": 4,
 "nbformat_minor": 2
}
