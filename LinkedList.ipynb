{
 "cells": [
  {
   "cell_type": "markdown",
   "metadata": {},
   "source": [
    "# Singly Linked List"
   ]
  },
  {
   "cell_type": "code",
   "execution_count": 18,
   "metadata": {},
   "outputs": [
    {
     "name": "stdout",
     "output_type": "stream",
     "text": [
      "[4, 1, 6]\n",
      "4\n",
      "1\n",
      "6\n",
      "The value does not exist in this list\n"
     ]
    }
   ],
   "source": [
    "class Node:\n",
    "    def __init__(self, value=None):\n",
    "        self.value = value\n",
    "        self.next = None\n",
    "\n",
    "class SLinkedList:\n",
    "    def __init__(self):\n",
    "        self.head = None\n",
    "        self.tail = None\n",
    "    \n",
    "    def __iter__(self):\n",
    "        node = self.head\n",
    "        while node:\n",
    "            yield node\n",
    "            node = node.next\n",
    "    # insert in List\n",
    "    def insertSLL(self, value, location):\n",
    "        newNode = Node(value)\n",
    "        if self.head is None:\n",
    "            self.head = newNode\n",
    "            self.tail = newNode\n",
    "        else:\n",
    "            if location == 0:\n",
    "                newNode.next = self.head\n",
    "                self.head = newNode\n",
    "            elif location == -1: \n",
    "                newNode.next = None\n",
    "                self.tail.next = newNode\n",
    "                self.tail = newNode\n",
    "            else:\n",
    "                tempNode = self.head\n",
    "                index = 0 \n",
    "                while index < location -1: \n",
    "                    tempNode = tempNode.next\n",
    "                    index += 1\n",
    "                nextNode = tempNode.next\n",
    "                tempNode.next = newNode\n",
    "                newNode.next = nextNode\n",
    "                if tempNode == self.tail:\n",
    "                    self.tail = newNode\n",
    "    # Traverse single linkedlist\n",
    "    def traverseSLL(self):\n",
    "        if self.head is None:\n",
    "            print(\"The singly Linked List does not exist\")\n",
    "        else:\n",
    "            node = self.head\n",
    "            while node is not None:\n",
    "                print(node.value)\n",
    "                node = node.next\n",
    "\n",
    "    # search for a node in SLL\n",
    "    def searchSLL(self, nodeValue):\n",
    "        if self.head is None:\n",
    "            return \"The List does not exist\"\n",
    "        else:\n",
    "            node = self.head\n",
    "            while node is not None:\n",
    "                if node.value == nodeValue:\n",
    "                    return node.value\n",
    "                node = node.next\n",
    "            return \"The value does not exist in this list\"\n",
    "\n",
    "singlyLinkedList = SLinkedList()\n",
    "singlyLinkedList.insertSLL(1,-1)\n",
    "singlyLinkedList.insertSLL(4, 0)\n",
    "singlyLinkedList.insertSLL(6, -1)\n",
    "\n",
    "print([node.value for node in singlyLinkedList])\n",
    "\n",
    "singlyLinkedList.traverseSLL()\n",
    "print(singlyLinkedList.searchSLL(40))\n",
    "\n",
    "\n"
   ]
  },
  {
   "cell_type": "code",
   "execution_count": null,
   "metadata": {},
   "outputs": [],
   "source": []
  }
 ],
 "metadata": {
  "interpreter": {
   "hash": "2b98e5309e6e3b0bade2ed4a1aa225e8ff7275f11bed2b4c0572310c8cf94ab4"
  },
  "kernelspec": {
   "display_name": "Python 3.8.8 64-bit ('base': conda)",
   "name": "python3"
  },
  "language_info": {
   "codemirror_mode": {
    "name": "ipython",
    "version": 3
   },
   "file_extension": ".py",
   "mimetype": "text/x-python",
   "name": "python",
   "nbconvert_exporter": "python",
   "pygments_lexer": "ipython3",
   "version": "3.8.8"
  },
  "orig_nbformat": 4
 },
 "nbformat": 4,
 "nbformat_minor": 2
}
