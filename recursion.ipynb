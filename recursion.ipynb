{
 "cells": [
  {
   "cell_type": "markdown",
   "metadata": {},
   "source": [
    "# Steps to write a recursive algoritm\n",
    "\n",
    "- Step 1: Recursive case - the flow \n",
    "\n",
    "- Step 2: Base case - Stopping criterion \n",
    "\n",
    "- Step 3: Untentional case - the constraint"
   ]
  },
  {
   "cell_type": "markdown",
   "metadata": {},
   "source": [
    "# Factorial with Recursion"
   ]
  },
  {
   "cell_type": "code",
   "execution_count": 6,
   "metadata": {},
   "outputs": [
    {
     "name": "stdout",
     "output_type": "stream",
     "text": [
      "3628800\n"
     ]
    }
   ],
   "source": [
    "#n! = n*(n-1)*(n-2)*....1 = n*(n-1)!\n",
    "def factorial(n):\n",
    "    assert n>=0 and int(n)==n , 'The number must be positive integer only!'\n",
    "    if n in [0,1]:\n",
    "        return 1\n",
    "\n",
    "    else: \n",
    "        return n * factorial(n-1)\n",
    "\n",
    "print(factorial(10))"
   ]
  },
  {
   "cell_type": "markdown",
   "metadata": {},
   "source": [
    "# Fibonacci with Recursion"
   ]
  },
  {
   "cell_type": "code",
   "execution_count": 26,
   "metadata": {},
   "outputs": [
    {
     "data": {
      "text/plain": [
       "5"
      ]
     },
     "execution_count": 26,
     "metadata": {},
     "output_type": "execute_result"
    }
   ],
   "source": [
    "fib_n = []\n",
    "def fib(n):\n",
    "    assert n>=1  and int(n)==n, 'The number must be positive integer only!'\n",
    "    if n in [1,2]:\n",
    "        return n-1\n",
    "    \n",
    "    else:\n",
    "        return fib(n-1) + fib(n-2)\n",
    "       \n",
    "\n",
    "fib(6)\n",
    "\n"
   ]
  },
  {
   "cell_type": "markdown",
   "metadata": {},
   "source": [
    "# Sum of Digits Using Recursion"
   ]
  },
  {
   "cell_type": "code",
   "execution_count": 4,
   "metadata": {},
   "outputs": [
    {
     "data": {
      "text/plain": [
       "2"
      ]
     },
     "execution_count": 4,
     "metadata": {},
     "output_type": "execute_result"
    }
   ],
   "source": [
    "def digit(n):\n",
    "    assert n>=0 and int(n) ==n, 'The number must be positive integer only'\n",
    "    if n<10:\n",
    "        return n\n",
    "    else:\n",
    "        return digit(int(n/10)) + n%10\n",
    "\n",
    "digit(11)"
   ]
  },
  {
   "cell_type": "markdown",
   "metadata": {},
   "source": [
    "# Power using recursion"
   ]
  },
  {
   "cell_type": "code",
   "execution_count": 11,
   "metadata": {},
   "outputs": [
    {
     "data": {
      "text/plain": [
       "3"
      ]
     },
     "execution_count": 11,
     "metadata": {},
     "output_type": "execute_result"
    }
   ],
   "source": [
    "def pow(base, exponent):\n",
    "    assert exponent>=0 and int(exponent) ==exponent, 'The number must be positive integer only'\n",
    "    if exponent == 1:\n",
    "        return base\n",
    "    if exponent == 0:\n",
    "        return 1\n",
    "    else:\n",
    "        return base * pow(base, exponent-1)\n",
    "\n",
    "pow(3,1)"
   ]
  },
  {
   "cell_type": "code",
   "execution_count": 7,
   "metadata": {},
   "outputs": [
    {
     "data": {
      "text/plain": [
       "1024"
      ]
     },
     "execution_count": 7,
     "metadata": {},
     "output_type": "execute_result"
    }
   ],
   "source": [
    "4**5"
   ]
  }
 ],
 "metadata": {
  "interpreter": {
   "hash": "03b071932e2ff43920a70a906a312164fca232c09f90383ed69a0680014bf05a"
  },
  "kernelspec": {
   "display_name": "Python 3.8.5 64-bit ('base': conda)",
   "language": "python",
   "name": "python3"
  },
  "language_info": {
   "codemirror_mode": {
    "name": "ipython",
    "version": 3
   },
   "file_extension": ".py",
   "mimetype": "text/x-python",
   "name": "python",
   "nbconvert_exporter": "python",
   "pygments_lexer": "ipython3",
   "version": "3.8.5"
  },
  "orig_nbformat": 4
 },
 "nbformat": 4,
 "nbformat_minor": 2
}
